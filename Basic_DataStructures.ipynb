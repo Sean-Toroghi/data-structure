{
  "nbformat": 4,
  "nbformat_minor": 0,
  "metadata": {
    "colab": {
      "provenance": [],
      "authorship_tag": "ABX9TyN5qeD4KidN8DKsRDjW2Z3U"
    },
    "kernelspec": {
      "name": "python3",
      "display_name": "Python 3"
    },
    "language_info": {
      "name": "python"
    }
  },
  "cells": [
    {
      "cell_type": "markdown",
      "source": [
        "# Linked-list"
      ],
      "metadata": {
        "id": "bTH7c7Oqo0HC"
      }
    },
    {
      "cell_type": "code",
      "execution_count": null,
      "metadata": {
        "id": "Cagh1uPYosMY"
      },
      "outputs": [],
      "source": [
        "# linked-list\n",
        "\n",
        "class node:\n",
        "  def __init__(self, data, next=None):\n",
        "    self.data = data\n",
        "    self.next = next\n",
        "\n",
        "class linked_list:\n",
        "  def __init__(self, head=None):\n",
        "    self.head = head\n",
        "\n",
        "  def add(self, data):\n",
        "    '''add new node'''\n",
        "    temp = self.head\n",
        "    self.head = node(data, temp)\n",
        "\n",
        "  def index(self, pos):\n",
        "    '''return data in pos'''\n",
        "    curr = self.head\n",
        "    i= 0\n",
        "    while (curr and i < pos):\n",
        "      curr = curr.next\n",
        "      i+=1\n",
        "    if i == pos:\n",
        "      return curr\n",
        "\n",
        "  def insert(self, data, pos = 0):\n",
        "    '''add new node with value=data in index=pos'''\n",
        "    pass\n",
        "\n",
        "  def delete(self, data):\n",
        "    '''remove first node which its value=data'''\n",
        "    pass\n",
        "\n",
        "  def pop(self, pos):\n",
        "    '''remove node with index=pos and return its value'''\n",
        "    pass\n",
        "\n",
        "  def __rep__(self):\n",
        "    return f'{self.data}'\n",
        "\n",
        "  def __str__(self):\n",
        "    return f'{self.data}'\n",
        "\n",
        "\n",
        "\n",
        "if __name__ == '__main__':\n",
        "  n1 = node(10)\n",
        "  n2 = node(3)\n",
        "  n3 = node(56)\n",
        "\n",
        "  n1.next = n2\n",
        "  n2.next = n3\n",
        "  n3.next = None\n",
        "\n",
        "  ll1 = linked_list(n1)\n",
        "\n",
        "  ll2 = linked_list()\n",
        "  for i in range (3):\n",
        "    ll2.add(i)\n",
        "\n",
        "  print(ll1.index(0))"
      ]
    },
    {
      "cell_type": "markdown",
      "source": [
        "# Array"
      ],
      "metadata": {
        "id": "Gb0p_g0TpLp1"
      }
    },
    {
      "cell_type": "code",
      "source": [
        "class array:\n",
        "  def __init__(self, array=[]):\n",
        "    self.array = array\n",
        "\n",
        "  def add(self,pos, data):\n",
        "    self.array.insert(pos, data)"
      ],
      "metadata": {
        "id": "NKEFAefUpNTR"
      },
      "execution_count": null,
      "outputs": []
    }
  ]
}