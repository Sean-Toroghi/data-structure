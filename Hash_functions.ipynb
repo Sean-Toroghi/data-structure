{
  "nbformat": 4,
  "nbformat_minor": 0,
  "metadata": {
    "colab": {
      "provenance": [],
      "authorship_tag": "ABX9TyOf621HXqisgjfWzCTZi0xQ"
    },
    "kernelspec": {
      "name": "python3",
      "display_name": "Python 3"
    },
    "language_info": {
      "name": "python"
    }
  },
  "cells": [
    {
      "cell_type": "markdown",
      "source": [
        "# Multiplicative hashing\n",
        "\n",
        "A simple technique for __near-universal__ hashing.\n",
        "\n"
      ],
      "metadata": {
        "id": "p-oTwaDyTbPc"
      }
    },
    {
      "cell_type": "code",
      "source": [
        "\n",
        "import random\n",
        "\n",
        "class hash_prime_multi:\n",
        "  '''\n",
        "  Prime multiplicative hashing\n",
        "  hash(x) = (ax mod p) mod m\n",
        "  '''\n",
        "  # global\n",
        "  prime_txt =  '2\t3\t5\t7\t11\t13\t17\t19\t23\t29 31\t37\t41\t43\t47\t53\t59\t61\t67\t71 73\t79\t83\t89\t97\t101\t103\t107\t109\t113 127\t131\t137\t139\t149\t151\t157\t163\t167\t173 179\t181\t191\t193\t197\t199\t211\t223\t227\t229 233\t239\t241\t251\t257\t263\t269\t271\t277\t281 283\t293\t307\t311\t313\t317\t331\t337\t347\t349 353\t359\t367\t373\t379\t383\t389\t397\t401\t409 419\t421\t431\t433\t439\t443\t449\t457\t461\t463 467\t479\t487\t491\t499\t503\t509\t521\t523\t541 547\t557\t563\t569\t571\t577\t587\t593\t599\t601 607\t613\t617\t619\t631\t641\t643\t647\t653\t659 661\t673\t677\t683\t691\t701\t709\t719\t727\t733 739\t743\t751\t757\t761\t769\t773\t787\t797\t809 811\t821\t823\t827\t829\t839\t853\t857\t859\t863 877\t881\t883\t887\t907\t911\t919\t929\t937\t941 947\t953\t967\t971\t977\t983\t991\t997\t1009'\n",
        "  prime_list = [int(x) for x in prime_txt.split()]\n",
        "\n",
        "  def __init__(self):\n",
        "    # construct hash table\n",
        "    self.hashtable = [[] for i in  range(100)]\n",
        "    self.a = random.choice(prime_list)\n",
        "\n",
        "  def hash_map(self, in_value):\n",
        "    # return index  = map (value)\n",
        "    p = 1009 # a large prime number  (larger than the size of universe)\n",
        "    hash_map = (self.a * in_value % p) % len (self.hashtable)\n",
        "    print(hash_map)\n",
        "    return hash_map\n",
        "\n",
        "  def add(self, in_value: int) -> None:\n",
        "    '''Add new item to hash table'''\n",
        "    index = self.hash_map(in_value)\n",
        "    if index not in self.hashtable[index]:\n",
        "      self.hashtable[index].append(in_value)\n",
        "\n",
        "\n",
        "\n",
        "  def remove(self, in_value: int) -> None:\n",
        "    '''Remove a value from hash table'''\n",
        "    index = self.hash_map(in_value)\n",
        "    if in_value in self.hashtable[index]:\n",
        "      self.hashtable[index].remove[in_value]\n",
        "\n",
        "  def lookup(self, in_value: int) -> bool:\n",
        "    '''Lookup for an item in the hash table'''\n",
        "    index = self.hash_map(in_value)\n",
        "    return in_value in self.hashtable[index]\n",
        "\n",
        "\n",
        "\n",
        "\n",
        "# To DO\n",
        "# univeral multiplicative hashing\n",
        "# Binary multiplicative hashing\n",
        "\n"
      ],
      "metadata": {
        "id": "YE228BEUUdGZ"
      },
      "execution_count": 29,
      "outputs": []
    }
  ]
}