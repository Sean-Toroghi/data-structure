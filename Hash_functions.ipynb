{
  "nbformat": 4,
  "nbformat_minor": 0,
  "metadata": {
    "colab": {
      "provenance": [],
      "authorship_tag": "ABX9TyMRTsiug6r05xVq5S6OPk0q"
    },
    "kernelspec": {
      "name": "python3",
      "display_name": "Python 3"
    },
    "language_info": {
      "name": "python"
    }
  },
  "cells": [
    {
      "cell_type": "markdown",
      "source": [
        "# Multiplicative hashing\n",
        "\n",
        "A simple technique for __near-universal__ hashing.\n",
        "\n"
      ],
      "metadata": {
        "id": "p-oTwaDyTbPc"
      }
    },
    {
      "cell_type": "code",
      "source": [
        "\n",
        "import random\n",
        "\n",
        "class hash_prime_multi:\n",
        "  '''\n",
        "  Prime multiplicative hashing\n",
        "  hash(x) = (ax mod p) mod m\n",
        "  '''\n",
        "  # global\n",
        "  prime_txt =  '2\t3\t5\t7\t11\t13\t17\t19\t23\t29 31\t37\t41\t43\t47\t53\t59\t61\t67\t71 73\t79\t83\t89\t97\t101\t103\t107\t109\t113 127\t131\t137\t139\t149\t151\t157\t163\t167\t173 179\t181\t191\t193\t197\t199\t211\t223\t227\t229 233\t239\t241\t251\t257\t263\t269\t271\t277\t281 283\t293\t307\t311\t313\t317\t331\t337\t347\t349 353\t359\t367\t373\t379\t383\t389\t397\t401\t409 419\t421\t431\t433\t439\t443\t449\t457\t461\t463 467\t479\t487\t491\t499\t503\t509\t521\t523\t541 547\t557\t563\t569\t571\t577\t587\t593\t599\t601 607\t613\t617\t619\t631\t641\t643\t647\t653\t659 661\t673\t677\t683\t691\t701\t709\t719\t727\t733 739\t743\t751\t757\t761\t769\t773\t787\t797\t809 811\t821\t823\t827\t829\t839\t853\t857\t859\t863 877\t881\t883\t887\t907\t911\t919\t929\t937\t941 947\t953\t967\t971\t977\t983\t991\t997\t1009'\n",
        "  prime_list = [int(x) for x in prime_txt.split()]\n",
        "\n",
        "  def __init__(self):\n",
        "    # construct hash table\n",
        "    self.hashtable = [[] for i in  range(100)]\n",
        "    self.a = random.choice(prime_list)\n",
        "\n",
        "  def hash_map(self, in_value):\n",
        "    # return index  = map (value)\n",
        "    p = 1009 # a large prime number  (larger than the size of universe)\n",
        "    hash_map = (self.a * in_value % p) % len (self.hashtable)\n",
        "    return hash_map\n",
        "\n",
        "  def add(self, in_value: int) -> None:\n",
        "    '''Add new item to hash table'''\n",
        "    index = self.hash_map(in_value)\n",
        "    if index not in self.hashtable[index]:\n",
        "      self.hashtable[index].append(in_value)\n",
        "\n",
        "\n",
        "\n",
        "  def remove(self, in_value: int) -> None:\n",
        "    '''Remove a value from hash table'''\n",
        "    index = self.hash_map(in_value)\n",
        "    if in_value in self.hashtable[index]:\n",
        "      self.hashtable[index].remove[in_value]\n",
        "\n",
        "  def lookup(self, in_value: int) -> bool:\n",
        "    '''Lookup for an item in the hash table'''\n",
        "    index = self.hash_map(in_value)\n",
        "    return in_value in self.hashtable[index]\n",
        "\n",
        "\n",
        "\n",
        "\n",
        "# To DO\n",
        "# univeral multiplicative hashing\n",
        "# Binary multiplicative hashing\n",
        "\n"
      ],
      "metadata": {
        "id": "YE228BEUUdGZ"
      },
      "execution_count": 50,
      "outputs": []
    },
    {
      "cell_type": "code",
      "source": [
        "hash_table1 = hash_prime_multi()\n",
        "for i in range (100):\n",
        "  hash_table1.add(i)\n",
        "hash_table1.lookup(99)"
      ],
      "metadata": {
        "colab": {
          "base_uri": "https://localhost:8080/"
        },
        "id": "FEh0BvqOgD3K",
        "outputId": "04f4a35e-f10a-4b2e-8598-50f8d0c3d2e5"
      },
      "execution_count": 56,
      "outputs": [
        {
          "output_type": "execute_result",
          "data": {
            "text/plain": [
              "True"
            ]
          },
          "metadata": {},
          "execution_count": 56
        }
      ]
    },
    {
      "cell_type": "code",
      "source": [
        "hash_table1.hashtable"
      ],
      "metadata": {
        "colab": {
          "base_uri": "https://localhost:8080/"
        },
        "id": "MGuLG7FQgWzS",
        "outputId": "ad49f927-0a05-4d2e-88b2-b43747a1484f"
      },
      "execution_count": 57,
      "outputs": [
        {
          "output_type": "execute_result",
          "data": {
            "text/plain": [
              "[[0],\n",
              " [],\n",
              " [45],\n",
              " [27],\n",
              " [9, 90],\n",
              " [72],\n",
              " [54],\n",
              " [36],\n",
              " [18, 99],\n",
              " [81],\n",
              " [63],\n",
              " [],\n",
              " [],\n",
              " [20],\n",
              " [2],\n",
              " [65],\n",
              " [47],\n",
              " [29],\n",
              " [11, 92],\n",
              " [74],\n",
              " [56],\n",
              " [38],\n",
              " [],\n",
              " [13, 83],\n",
              " [],\n",
              " [58],\n",
              " [40],\n",
              " [22],\n",
              " [4, 85],\n",
              " [67],\n",
              " [49],\n",
              " [31],\n",
              " [94],\n",
              " [76],\n",
              " [],\n",
              " [],\n",
              " [33],\n",
              " [15],\n",
              " [78],\n",
              " [60],\n",
              " [42],\n",
              " [24],\n",
              " [6, 87],\n",
              " [69],\n",
              " [51],\n",
              " [],\n",
              " [26, 96],\n",
              " [8],\n",
              " [71],\n",
              " [53],\n",
              " [35],\n",
              " [17, 98],\n",
              " [80],\n",
              " [62],\n",
              " [44],\n",
              " [],\n",
              " [89],\n",
              " [1],\n",
              " [],\n",
              " [46],\n",
              " [28],\n",
              " [10, 91],\n",
              " [73],\n",
              " [55],\n",
              " [37],\n",
              " [19],\n",
              " [82],\n",
              " [64],\n",
              " [],\n",
              " [39],\n",
              " [21],\n",
              " [3, 84],\n",
              " [66],\n",
              " [48],\n",
              " [30],\n",
              " [12, 93],\n",
              " [75],\n",
              " [57],\n",
              " [],\n",
              " [],\n",
              " [14],\n",
              " [],\n",
              " [59],\n",
              " [41],\n",
              " [23],\n",
              " [5, 86],\n",
              " [68],\n",
              " [50],\n",
              " [32],\n",
              " [95],\n",
              " [7, 77],\n",
              " [],\n",
              " [52],\n",
              " [34],\n",
              " [16, 97],\n",
              " [79],\n",
              " [61],\n",
              " [43],\n",
              " [25],\n",
              " [88]]"
            ]
          },
          "metadata": {},
          "execution_count": 57
        }
      ]
    }
  ]
}