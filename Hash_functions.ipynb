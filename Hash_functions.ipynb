{
  "nbformat": 4,
  "nbformat_minor": 0,
  "metadata": {
    "colab": {
      "provenance": [],
      "authorship_tag": "ABX9TyPZrxZLqFEUMCyQyYMR0J5n"
    },
    "kernelspec": {
      "name": "python3",
      "display_name": "Python 3"
    },
    "language_info": {
      "name": "python"
    }
  },
  "cells": [
    {
      "cell_type": "markdown",
      "source": [
        "# Multiplicative hashing\n",
        "\n",
        "A simple technique for __near-universal__ hashing.\n",
        "\n"
      ],
      "metadata": {
        "id": "p-oTwaDyTbPc"
      }
    },
    {
      "cell_type": "code",
      "source": [
        "\n",
        "import random\n",
        "\n",
        "class hash_multiplicative:\n",
        "  def __init__(self, method = 'prime_mult'):\n",
        "    '''methods:\n",
        "    1. prime_mult: Prime multiplicative hashing (near universal hashing) => hash(x) = (ax mod p) mod m\n",
        "    2. universal_mult: universall multiplication hashing (Actual universal hashing) => h(x) = ((ax +b) mod p) mod m\n",
        "    '''\n",
        "    # construct hash table\n",
        "    self.prime_txt =  '2\t3\t5\t7\t11\t13\t17\t19\t23\t29 31\t37\t41\t43\t47\t53\t59\t61\t67\t71 73\t79\t83\t89\t97\t101\t103\t107\t109\t113 127\t131\t137\t139\t149\t151\t157\t163\t167\t173 179\t181\t191\t193\t197\t199\t211\t223\t227\t229 233\t239\t241\t251\t257\t263\t269\t271\t277\t281 283\t293\t307\t311\t313\t317\t331\t337\t347\t349 353\t359\t367\t373\t379\t383\t389\t397\t401\t409 419\t421\t431\t433\t439\t443\t449\t457\t461\t463 467\t479\t487\t491\t499\t503\t509\t521\t523\t541 547\t557\t563\t569\t571\t577\t587\t593\t599\t601 607\t613\t617\t619\t631\t641\t643\t647\t653\t659 661\t673\t677\t683\t691\t701\t709\t719\t727\t733 739\t743\t751\t757\t761\t769\t773\t787\t797\t809 811\t821\t823\t827\t829\t839\t853\t857\t859\t863 877\t881\t883\t887\t907\t911\t919\t929\t937\t941 947\t953\t967\t971\t977\t983\t991\t997\t1009'\n",
        "    self.prime_list_plus = [int(x) for x in self.prime_txt.split()]\n",
        "    self.prime_list = self.prime_list_plus\n",
        "    self.prime_list.append(0)\n",
        "    self.hashtable = [[] for i in  range(100)]\n",
        "    self.a = random.choice(self.prime_list_plus)\n",
        "    self.b = random.choice(self.prime_list_plus)\n",
        "    self.method = method\n",
        "\n",
        "  def hash_map(self, in_value):\n",
        "    # return index  = map (value)\n",
        "    if self.method == 'universal_mult':\n",
        "      hash_map = ((self.a * in_value +self.b ) % p) % len(self.hashtable)\n",
        "    else:\n",
        "      hash_map = (self.a * in_value % p) % len(self.hashtable)\n",
        "    return hash_map\n",
        "\n",
        "  def add(self, in_value: int) -> None:\n",
        "    '''Add new item to hash table'''\n",
        "    index = self.hash_map(in_value)\n",
        "    if index not in self.hashtable[index]:\n",
        "      self.hashtable[index].append(in_value)\n",
        "\n",
        "\n",
        "\n",
        "  def remove(self, in_value: int) -> None:\n",
        "    '''Remove a value from hash table'''\n",
        "    index = self.hash_map(in_value)\n",
        "    if in_value in self.hashtable[index]:\n",
        "      self.hashtable[index].remove[in_value]\n",
        "\n",
        "  def lookup(self, in_value: int) -> bool:\n",
        "    '''Lookup for an item in the hash table'''\n",
        "    index = self.hash_map(in_value)\n",
        "    return in_value in self.hashtable[index]\n",
        "\n",
        "class hash_probing():\n",
        "  def __init__(self, method= 'linear'):\n",
        "    '''\n",
        "    Probing hash function\n",
        "    methods:\n",
        "    1. linear: linear probing\n",
        "    2. binary: binary probing\n",
        "    '''\n",
        "    pass\n",
        "\n",
        "\n",
        "\n"
      ],
      "metadata": {
        "id": "YE228BEUUdGZ"
      },
      "execution_count": 101,
      "outputs": []
    },
    {
      "cell_type": "code",
      "source": [
        "hash_table1 = hash_prime_multi()\n",
        "for i in range (100):\n",
        "  hash_table1.add(i)\n",
        "hash_table1.lookup(99)"
      ],
      "metadata": {
        "colab": {
          "base_uri": "https://localhost:8080/"
        },
        "id": "FEh0BvqOgD3K",
        "outputId": "c958d91b-6868-44d8-8f94-a09a3baa08a5"
      },
      "execution_count": 88,
      "outputs": [
        {
          "output_type": "execute_result",
          "data": {
            "text/plain": [
              "True"
            ]
          },
          "metadata": {},
          "execution_count": 88
        }
      ]
    },
    {
      "cell_type": "code",
      "source": [
        "hash_table2 = hash_prime_multi(method = 'universal_mult')\n",
        "for i in range (100):\n",
        "  hash_table2.add(i)\n",
        "hash_table2.lookup(99)"
      ],
      "metadata": {
        "colab": {
          "base_uri": "https://localhost:8080/"
        },
        "id": "akmXU586_svf",
        "outputId": "b65369e9-e0d8-4dad-b437-43397f576abf"
      },
      "execution_count": 97,
      "outputs": [
        {
          "output_type": "execute_result",
          "data": {
            "text/plain": [
              "True"
            ]
          },
          "metadata": {},
          "execution_count": 97
        }
      ]
    },
    {
      "cell_type": "code",
      "source": [
        "'{:032b}'.format(110)"
      ],
      "metadata": {
        "colab": {
          "base_uri": "https://localhost:8080/",
          "height": 35
        },
        "id": "MeCYNt9s_yjK",
        "outputId": "f8149b9e-38f0-4fa0-dcb5-76bcb6019aab"
      },
      "execution_count": 100,
      "outputs": [
        {
          "output_type": "execute_result",
          "data": {
            "text/plain": [
              "'00000000000000000000000001101110'"
            ],
            "application/vnd.google.colaboratory.intrinsic+json": {
              "type": "string"
            }
          },
          "metadata": {},
          "execution_count": 100
        }
      ]
    },
    {
      "cell_type": "code",
      "source": [
        "hash_table2.hashtable"
      ],
      "metadata": {
        "colab": {
          "base_uri": "https://localhost:8080/"
        },
        "id": "MGuLG7FQgWzS",
        "outputId": "1456afc9-26df-4d08-dd0e-392798bf2d6a"
      },
      "execution_count": 98,
      "outputs": [
        {
          "output_type": "execute_result",
          "data": {
            "text/plain": [
              "[[0],\n",
              " [],\n",
              " [],\n",
              " [],\n",
              " [],\n",
              " [],\n",
              " [61],\n",
              " [56],\n",
              " [51, 97],\n",
              " [46, 92],\n",
              " [41, 87],\n",
              " [36, 82],\n",
              " [31, 77],\n",
              " [26, 72],\n",
              " [21],\n",
              " [16],\n",
              " [11],\n",
              " [],\n",
              " [],\n",
              " [],\n",
              " [],\n",
              " [],\n",
              " [],\n",
              " [67],\n",
              " [62],\n",
              " [57],\n",
              " [6, 52, 98],\n",
              " [1, 47, 93],\n",
              " [42, 88],\n",
              " [37, 83],\n",
              " [32],\n",
              " [27],\n",
              " [22],\n",
              " [],\n",
              " [],\n",
              " [],\n",
              " [],\n",
              " [],\n",
              " [],\n",
              " [78],\n",
              " [73],\n",
              " [68],\n",
              " [17, 63],\n",
              " [12, 58],\n",
              " [7, 53, 99],\n",
              " [2, 48, 94],\n",
              " [43],\n",
              " [38],\n",
              " [33],\n",
              " [],\n",
              " [],\n",
              " [],\n",
              " [],\n",
              " [],\n",
              " [],\n",
              " [89],\n",
              " [84],\n",
              " [79],\n",
              " [28, 74],\n",
              " [23, 69],\n",
              " [18, 64],\n",
              " [13, 59],\n",
              " [8, 54],\n",
              " [3, 49],\n",
              " [44],\n",
              " [],\n",
              " [],\n",
              " [],\n",
              " [],\n",
              " [],\n",
              " [],\n",
              " [],\n",
              " [95],\n",
              " [90],\n",
              " [39, 85],\n",
              " [34, 80],\n",
              " [29, 75],\n",
              " [24, 70],\n",
              " [19, 65],\n",
              " [14, 60],\n",
              " [9, 55],\n",
              " [4],\n",
              " [],\n",
              " [],\n",
              " [],\n",
              " [],\n",
              " [],\n",
              " [],\n",
              " [],\n",
              " [],\n",
              " [50, 96],\n",
              " [45, 91],\n",
              " [40, 86],\n",
              " [35, 81],\n",
              " [30, 76],\n",
              " [25, 71],\n",
              " [20, 66],\n",
              " [15],\n",
              " [10],\n",
              " [5]]"
            ]
          },
          "metadata": {},
          "execution_count": 98
        }
      ]
    }
  ]
}